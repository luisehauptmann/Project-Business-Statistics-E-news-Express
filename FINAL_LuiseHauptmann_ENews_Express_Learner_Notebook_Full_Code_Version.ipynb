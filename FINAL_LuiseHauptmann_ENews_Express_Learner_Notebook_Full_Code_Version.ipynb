{
 "cells": [
  {
   "cell_type": "markdown",
   "id": "49d356c2",
   "metadata": {},
   "source": [
    "# Luise Hauptmann"
   ]
  },
  {
   "cell_type": "markdown",
   "id": "6yDxo9u0d9Na",
   "metadata": {
    "id": "6yDxo9u0d9Na"
   },
   "source": [
    "# Project Business Statistics: E-news Express\n",
    "\n",
    "**Marks: 60**"
   ]
  },
  {
   "cell_type": "markdown",
   "id": "SrLd-ICEmPSD",
   "metadata": {
    "id": "SrLd-ICEmPSD"
   },
   "source": [
    "## Define Problem Statement and Objectives"
   ]
  },
  {
   "cell_type": "markdown",
   "id": "9Vt1PLLqmXNn",
   "metadata": {
    "id": "9Vt1PLLqmXNn"
   },
   "source": [
    "#### Business Context\n",
    "Electronic news portals are an excellent tool used to instantly receive updates on global events and news stories. The information displayed on the portal originates from online databases, processed by software, and then can be accessed by the user. \n",
    "\n",
    "E-news Express is seeking to expand its business by gaining new subscribers. The company is analyzing user actions in order to better understand user interest and determine how to increase engagement. The executives believe that monthly subscriptions are down due to an outdated user interface on the webpage. "
   ]
  },
  {
   "cell_type": "markdown",
   "id": "3bc34351",
   "metadata": {},
   "source": [
    "#### Objectives\n",
    "E-news Express' design team has created a new landing page featuring a new outline and curated content. To test if the new landing page is more engaging than the old landing page, 100 users were randomly selected for a test. The users were divided equally into two groups and were shown the old landing page (control) and the new landing page (treatment) based on their respective group. \n",
    "\n",
    "As a data scientist at E-news Express, I will explore the data and perform a statistical analysis at a significance level of 5% to determine if the new landing page is more effective at gathering new subscribers. \n",
    "\n",
    "**Questions to answer:**\n",
    "1. Do users spend more time on the new landing page than on the existing landing page?\n",
    "2. Is the conversion rate (the proportion of users who visit the landing page and get converted) for the new page greater than the conversion rate for the old page?\n",
    "3. Does the converted status depend on the preferred language?\n",
    "4. Is the time spent on the new page the same for the different language users?\n",
    " "
   ]
  },
  {
   "cell_type": "markdown",
   "id": "8cb7791d",
   "metadata": {},
   "source": [
    "#### Data Dictionary\n",
    "1. user_id \n",
    "    * The ID of the individual visiting the website. \n",
    "2. group \n",
    "    * determines if the user is in the control group or the treatment group.\n",
    "3. landing_page \n",
    "    * ascertains if the landing page is new or old. \n",
    "4. time_spent_on_the_page \n",
    "    * how much time (in minutes) is spent on the page.\n",
    "5. converted \n",
    "    * delineates if the user is converted to a subscriber or not\n",
    "6. language_preferred \n",
    "    * the preferred language to view the landing page based on the user's choice. "
   ]
  },
  {
   "cell_type": "markdown",
   "id": "a6a3d218",
   "metadata": {
    "id": "a6a3d218"
   },
   "source": [
    "## Import all the necessary libraries"
   ]
  },
  {
   "cell_type": "code",
   "execution_count": 1,
   "id": "658c5dec",
   "metadata": {
    "id": "658c5dec"
   },
   "outputs": [],
   "source": [
    "# import necessary libraries\n",
    "import pandas as pd \n",
    "import numpy as np \n",
    "import matplotlib.pyplot as plt \n",
    "import seaborn as sns \n",
    "%matplotlib inline \n",
    "\n",
    "import scipy.stats as stats "
   ]
  },
  {
   "cell_type": "code",
   "execution_count": 2,
   "id": "9f950ca3",
   "metadata": {},
   "outputs": [
    {
     "data": {
      "text/plain": [
       "'1.7.3'"
      ]
     },
     "execution_count": 2,
     "metadata": {},
     "output_type": "execute_result"
    }
   ],
   "source": [
    "# check scipy version \n",
    "import scipy\n",
    "scipy.__version__"
   ]
  },
  {
   "cell_type": "markdown",
   "id": "6970dd99",
   "metadata": {
    "id": "6970dd99"
   },
   "source": [
    "## Reading the Data into a DataFrame"
   ]
  },
  {
   "cell_type": "code",
   "execution_count": 3,
   "id": "d3b95640",
   "metadata": {
    "id": "d3b95640"
   },
   "outputs": [],
   "source": [
    "# read the data into a dataframe\n",
    "df = pd.read_csv('abtest.csv')"
   ]
  },
  {
   "cell_type": "markdown",
   "id": "9d75cfa2",
   "metadata": {
    "id": "9d75cfa2"
   },
   "source": [
    "## Explore the dataset and extract insights using Exploratory Data Analysis"
   ]
  },
  {
   "cell_type": "markdown",
   "id": "27201534",
   "metadata": {
    "id": "27201534"
   },
   "source": [
    "- Data Overview\n",
    "  - Viewing the first and last few rows of the dataset\n",
    "  - Checking the shape of the dataset\n",
    "  - Getting the statistical summary for the variables\n",
    "- Check for missing values\n",
    "- Check for duplicates"
   ]
  },
  {
   "cell_type": "code",
   "execution_count": 4,
   "id": "e1ad11d4",
   "metadata": {
    "id": "e1ad11d4",
    "scrolled": true
   },
   "outputs": [
    {
     "data": {
      "text/html": [
       "<div>\n",
       "<style scoped>\n",
       "    .dataframe tbody tr th:only-of-type {\n",
       "        vertical-align: middle;\n",
       "    }\n",
       "\n",
       "    .dataframe tbody tr th {\n",
       "        vertical-align: top;\n",
       "    }\n",
       "\n",
       "    .dataframe thead th {\n",
       "        text-align: right;\n",
       "    }\n",
       "</style>\n",
       "<table border=\"1\" class=\"dataframe\">\n",
       "  <thead>\n",
       "    <tr style=\"text-align: right;\">\n",
       "      <th></th>\n",
       "      <th>user_id</th>\n",
       "      <th>group</th>\n",
       "      <th>landing_page</th>\n",
       "      <th>time_spent_on_the_page</th>\n",
       "      <th>converted</th>\n",
       "      <th>language_preferred</th>\n",
       "    </tr>\n",
       "  </thead>\n",
       "  <tbody>\n",
       "    <tr>\n",
       "      <th>0</th>\n",
       "      <td>546592</td>\n",
       "      <td>control</td>\n",
       "      <td>old</td>\n",
       "      <td>3.48</td>\n",
       "      <td>no</td>\n",
       "      <td>Spanish</td>\n",
       "    </tr>\n",
       "    <tr>\n",
       "      <th>1</th>\n",
       "      <td>546468</td>\n",
       "      <td>treatment</td>\n",
       "      <td>new</td>\n",
       "      <td>7.13</td>\n",
       "      <td>yes</td>\n",
       "      <td>English</td>\n",
       "    </tr>\n",
       "    <tr>\n",
       "      <th>2</th>\n",
       "      <td>546462</td>\n",
       "      <td>treatment</td>\n",
       "      <td>new</td>\n",
       "      <td>4.40</td>\n",
       "      <td>no</td>\n",
       "      <td>Spanish</td>\n",
       "    </tr>\n",
       "    <tr>\n",
       "      <th>3</th>\n",
       "      <td>546567</td>\n",
       "      <td>control</td>\n",
       "      <td>old</td>\n",
       "      <td>3.02</td>\n",
       "      <td>no</td>\n",
       "      <td>French</td>\n",
       "    </tr>\n",
       "    <tr>\n",
       "      <th>4</th>\n",
       "      <td>546459</td>\n",
       "      <td>treatment</td>\n",
       "      <td>new</td>\n",
       "      <td>4.75</td>\n",
       "      <td>yes</td>\n",
       "      <td>Spanish</td>\n",
       "    </tr>\n",
       "  </tbody>\n",
       "</table>\n",
       "</div>"
      ],
      "text/plain": [
       "   user_id      group landing_page  time_spent_on_the_page converted  \\\n",
       "0   546592    control          old                    3.48        no   \n",
       "1   546468  treatment          new                    7.13       yes   \n",
       "2   546462  treatment          new                    4.40        no   \n",
       "3   546567    control          old                    3.02        no   \n",
       "4   546459  treatment          new                    4.75       yes   \n",
       "\n",
       "  language_preferred  \n",
       "0            Spanish  \n",
       "1            English  \n",
       "2            Spanish  \n",
       "3             French  \n",
       "4            Spanish  "
      ]
     },
     "execution_count": 4,
     "metadata": {},
     "output_type": "execute_result"
    }
   ],
   "source": [
    "# first 5 rows of the dataset\n",
    "df.head()"
   ]
  },
  {
   "cell_type": "code",
   "execution_count": 5,
   "id": "62d99697",
   "metadata": {
    "scrolled": false
   },
   "outputs": [
    {
     "data": {
      "text/html": [
       "<div>\n",
       "<style scoped>\n",
       "    .dataframe tbody tr th:only-of-type {\n",
       "        vertical-align: middle;\n",
       "    }\n",
       "\n",
       "    .dataframe tbody tr th {\n",
       "        vertical-align: top;\n",
       "    }\n",
       "\n",
       "    .dataframe thead th {\n",
       "        text-align: right;\n",
       "    }\n",
       "</style>\n",
       "<table border=\"1\" class=\"dataframe\">\n",
       "  <thead>\n",
       "    <tr style=\"text-align: right;\">\n",
       "      <th></th>\n",
       "      <th>user_id</th>\n",
       "      <th>group</th>\n",
       "      <th>landing_page</th>\n",
       "      <th>time_spent_on_the_page</th>\n",
       "      <th>converted</th>\n",
       "      <th>language_preferred</th>\n",
       "    </tr>\n",
       "  </thead>\n",
       "  <tbody>\n",
       "    <tr>\n",
       "      <th>95</th>\n",
       "      <td>546446</td>\n",
       "      <td>treatment</td>\n",
       "      <td>new</td>\n",
       "      <td>5.15</td>\n",
       "      <td>no</td>\n",
       "      <td>Spanish</td>\n",
       "    </tr>\n",
       "    <tr>\n",
       "      <th>96</th>\n",
       "      <td>546544</td>\n",
       "      <td>control</td>\n",
       "      <td>old</td>\n",
       "      <td>6.52</td>\n",
       "      <td>yes</td>\n",
       "      <td>English</td>\n",
       "    </tr>\n",
       "    <tr>\n",
       "      <th>97</th>\n",
       "      <td>546472</td>\n",
       "      <td>treatment</td>\n",
       "      <td>new</td>\n",
       "      <td>7.07</td>\n",
       "      <td>yes</td>\n",
       "      <td>Spanish</td>\n",
       "    </tr>\n",
       "    <tr>\n",
       "      <th>98</th>\n",
       "      <td>546481</td>\n",
       "      <td>treatment</td>\n",
       "      <td>new</td>\n",
       "      <td>6.20</td>\n",
       "      <td>yes</td>\n",
       "      <td>Spanish</td>\n",
       "    </tr>\n",
       "    <tr>\n",
       "      <th>99</th>\n",
       "      <td>546483</td>\n",
       "      <td>treatment</td>\n",
       "      <td>new</td>\n",
       "      <td>5.86</td>\n",
       "      <td>yes</td>\n",
       "      <td>English</td>\n",
       "    </tr>\n",
       "  </tbody>\n",
       "</table>\n",
       "</div>"
      ],
      "text/plain": [
       "    user_id      group landing_page  time_spent_on_the_page converted  \\\n",
       "95   546446  treatment          new                    5.15        no   \n",
       "96   546544    control          old                    6.52       yes   \n",
       "97   546472  treatment          new                    7.07       yes   \n",
       "98   546481  treatment          new                    6.20       yes   \n",
       "99   546483  treatment          new                    5.86       yes   \n",
       "\n",
       "   language_preferred  \n",
       "95            Spanish  \n",
       "96            English  \n",
       "97            Spanish  \n",
       "98            Spanish  \n",
       "99            English  "
      ]
     },
     "execution_count": 5,
     "metadata": {},
     "output_type": "execute_result"
    }
   ],
   "source": [
    "# last 5 rows of the dataset\n",
    "df.tail()"
   ]
  },
  {
   "cell_type": "code",
   "execution_count": 6,
   "id": "7e7c3172",
   "metadata": {
    "scrolled": true
   },
   "outputs": [
    {
     "data": {
      "text/plain": [
       "(100, 6)"
      ]
     },
     "execution_count": 6,
     "metadata": {},
     "output_type": "execute_result"
    }
   ],
   "source": [
    "# shape of the dataset\n",
    "df.shape"
   ]
  },
  {
   "cell_type": "markdown",
   "id": "d4f4d3fd",
   "metadata": {},
   "source": [
    "Insights: \n",
    "* The dataset has 100 rows and 6 columns.\n",
    "* There are a total of 100 observations in the sample. "
   ]
  },
  {
   "cell_type": "code",
   "execution_count": 7,
   "id": "cf2ca367",
   "metadata": {
    "scrolled": false
   },
   "outputs": [
    {
     "name": "stdout",
     "output_type": "stream",
     "text": [
      "<class 'pandas.core.frame.DataFrame'>\n",
      "RangeIndex: 100 entries, 0 to 99\n",
      "Data columns (total 6 columns):\n",
      " #   Column                  Non-Null Count  Dtype  \n",
      "---  ------                  --------------  -----  \n",
      " 0   user_id                 100 non-null    int64  \n",
      " 1   group                   100 non-null    object \n",
      " 2   landing_page            100 non-null    object \n",
      " 3   time_spent_on_the_page  100 non-null    float64\n",
      " 4   converted               100 non-null    object \n",
      " 5   language_preferred      100 non-null    object \n",
      "dtypes: float64(1), int64(1), object(4)\n",
      "memory usage: 4.8+ KB\n"
     ]
    }
   ],
   "source": [
    "# collect info on the dataset\n",
    "df.info()"
   ]
  },
  {
   "cell_type": "code",
   "execution_count": 8,
   "id": "ac109fff",
   "metadata": {},
   "outputs": [],
   "source": [
    "# change user_id to an string\n",
    "df['user_id']=df['user_id'].astype(object)"
   ]
  },
  {
   "cell_type": "code",
   "execution_count": 9,
   "id": "0f56c08e",
   "metadata": {},
   "outputs": [
    {
     "data": {
      "text/plain": [
       "<class 'int'>    100\n",
       "Name: user_id, dtype: int64"
      ]
     },
     "execution_count": 9,
     "metadata": {},
     "output_type": "execute_result"
    }
   ],
   "source": [
    "# check the type of 'user_id'\n",
    "df['user_id'].apply(type).value_counts()"
   ]
  },
  {
   "cell_type": "code",
   "execution_count": 10,
   "id": "68e2b551",
   "metadata": {
    "scrolled": false
   },
   "outputs": [
    {
     "data": {
      "text/html": [
       "<div>\n",
       "<style scoped>\n",
       "    .dataframe tbody tr th:only-of-type {\n",
       "        vertical-align: middle;\n",
       "    }\n",
       "\n",
       "    .dataframe tbody tr th {\n",
       "        vertical-align: top;\n",
       "    }\n",
       "\n",
       "    .dataframe thead th {\n",
       "        text-align: right;\n",
       "    }\n",
       "</style>\n",
       "<table border=\"1\" class=\"dataframe\">\n",
       "  <thead>\n",
       "    <tr style=\"text-align: right;\">\n",
       "      <th></th>\n",
       "      <th>count</th>\n",
       "      <th>mean</th>\n",
       "      <th>std</th>\n",
       "      <th>min</th>\n",
       "      <th>25%</th>\n",
       "      <th>50%</th>\n",
       "      <th>75%</th>\n",
       "      <th>max</th>\n",
       "    </tr>\n",
       "  </thead>\n",
       "  <tbody>\n",
       "    <tr>\n",
       "      <th>time_spent_on_the_page</th>\n",
       "      <td>100.0</td>\n",
       "      <td>5.3778</td>\n",
       "      <td>2.378166</td>\n",
       "      <td>0.19</td>\n",
       "      <td>3.88</td>\n",
       "      <td>5.415</td>\n",
       "      <td>7.0225</td>\n",
       "      <td>10.71</td>\n",
       "    </tr>\n",
       "  </tbody>\n",
       "</table>\n",
       "</div>"
      ],
      "text/plain": [
       "                        count    mean       std   min   25%    50%     75%  \\\n",
       "time_spent_on_the_page  100.0  5.3778  2.378166  0.19  3.88  5.415  7.0225   \n",
       "\n",
       "                          max  \n",
       "time_spent_on_the_page  10.71  "
      ]
     },
     "execution_count": 10,
     "metadata": {},
     "output_type": "execute_result"
    }
   ],
   "source": [
    "# statistical summary\n",
    "df.describe().T"
   ]
  },
  {
   "cell_type": "markdown",
   "id": "01591bcb",
   "metadata": {},
   "source": [
    "Insights: \n",
    "* Mean time spent on page is 5.38 minutes.\n",
    "* Standard deviation is 2.38 minutes. \n",
    "* The minimum time spent on the page is 0.19 minutes.\n",
    "* The median time spent on the page is 5.42 minutes.\n",
    "* The maximum time spent on the page is 10.71 minutes."
   ]
  },
  {
   "cell_type": "code",
   "execution_count": 11,
   "id": "b702b302",
   "metadata": {
    "scrolled": true
   },
   "outputs": [
    {
     "data": {
      "text/plain": [
       "user_id                   0\n",
       "group                     0\n",
       "landing_page              0\n",
       "time_spent_on_the_page    0\n",
       "converted                 0\n",
       "language_preferred        0\n",
       "dtype: int64"
      ]
     },
     "execution_count": 11,
     "metadata": {},
     "output_type": "execute_result"
    }
   ],
   "source": [
    "# check for missing values\n",
    "df.isnull().sum()"
   ]
  },
  {
   "cell_type": "markdown",
   "id": "65dfb6af",
   "metadata": {},
   "source": [
    "Insights: \n",
    "*  There are no missing values in the dataset."
   ]
  },
  {
   "cell_type": "code",
   "execution_count": 12,
   "id": "9168538e",
   "metadata": {
    "scrolled": true
   },
   "outputs": [
    {
     "data": {
      "text/plain": [
       "0"
      ]
     },
     "execution_count": 12,
     "metadata": {},
     "output_type": "execute_result"
    }
   ],
   "source": [
    "# check for duplicates\n",
    "df.duplicated().sum()"
   ]
  },
  {
   "cell_type": "markdown",
   "id": "a91b2851",
   "metadata": {},
   "source": [
    "Insights: \n",
    "* There are no duplicates in the dataset."
   ]
  },
  {
   "cell_type": "markdown",
   "id": "68f3b2c9",
   "metadata": {
    "id": "68f3b2c9"
   },
   "source": [
    "### Univariate Analysis"
   ]
  },
  {
   "cell_type": "code",
   "execution_count": 13,
   "id": "1932d0f3",
   "metadata": {
    "id": "1932d0f3",
    "scrolled": true
   },
   "outputs": [
    {
     "data": {
      "text/html": [
       "<div>\n",
       "<style scoped>\n",
       "    .dataframe tbody tr th:only-of-type {\n",
       "        vertical-align: middle;\n",
       "    }\n",
       "\n",
       "    .dataframe tbody tr th {\n",
       "        vertical-align: top;\n",
       "    }\n",
       "\n",
       "    .dataframe thead th {\n",
       "        text-align: right;\n",
       "    }\n",
       "</style>\n",
       "<table border=\"1\" class=\"dataframe\">\n",
       "  <thead>\n",
       "    <tr style=\"text-align: right;\">\n",
       "      <th></th>\n",
       "      <th>index</th>\n",
       "      <th>user_id</th>\n",
       "    </tr>\n",
       "  </thead>\n",
       "  <tbody>\n",
       "    <tr>\n",
       "      <th>0</th>\n",
       "      <td>546592</td>\n",
       "      <td>1</td>\n",
       "    </tr>\n",
       "    <tr>\n",
       "      <th>1</th>\n",
       "      <td>546590</td>\n",
       "      <td>1</td>\n",
       "    </tr>\n",
       "    <tr>\n",
       "      <th>2</th>\n",
       "      <td>546444</td>\n",
       "      <td>1</td>\n",
       "    </tr>\n",
       "    <tr>\n",
       "      <th>3</th>\n",
       "      <td>546452</td>\n",
       "      <td>1</td>\n",
       "    </tr>\n",
       "    <tr>\n",
       "      <th>4</th>\n",
       "      <td>546476</td>\n",
       "      <td>1</td>\n",
       "    </tr>\n",
       "    <tr>\n",
       "      <th>...</th>\n",
       "      <td>...</td>\n",
       "      <td>...</td>\n",
       "    </tr>\n",
       "    <tr>\n",
       "      <th>95</th>\n",
       "      <td>546464</td>\n",
       "      <td>1</td>\n",
       "    </tr>\n",
       "    <tr>\n",
       "      <th>96</th>\n",
       "      <td>546575</td>\n",
       "      <td>1</td>\n",
       "    </tr>\n",
       "    <tr>\n",
       "      <th>97</th>\n",
       "      <td>546471</td>\n",
       "      <td>1</td>\n",
       "    </tr>\n",
       "    <tr>\n",
       "      <th>98</th>\n",
       "      <td>546586</td>\n",
       "      <td>1</td>\n",
       "    </tr>\n",
       "    <tr>\n",
       "      <th>99</th>\n",
       "      <td>546483</td>\n",
       "      <td>1</td>\n",
       "    </tr>\n",
       "  </tbody>\n",
       "</table>\n",
       "<p>100 rows × 2 columns</p>\n",
       "</div>"
      ],
      "text/plain": [
       "     index  user_id\n",
       "0   546592        1\n",
       "1   546590        1\n",
       "2   546444        1\n",
       "3   546452        1\n",
       "4   546476        1\n",
       "..     ...      ...\n",
       "95  546464        1\n",
       "96  546575        1\n",
       "97  546471        1\n",
       "98  546586        1\n",
       "99  546483        1\n",
       "\n",
       "[100 rows x 2 columns]"
      ]
     },
     "execution_count": 13,
     "metadata": {},
     "output_type": "execute_result"
    }
   ],
   "source": [
    "# user_id\n",
    "df['user_id'].value_counts().reset_index()"
   ]
  },
  {
   "cell_type": "markdown",
   "id": "eb6e0ffa",
   "metadata": {},
   "source": [
    "##### Observations\n",
    "* There are 100 unique users in the dataset. "
   ]
  },
  {
   "cell_type": "code",
   "execution_count": 14,
   "id": "3fe9c0e4",
   "metadata": {
    "scrolled": true
   },
   "outputs": [
    {
     "data": {
      "image/png": "[encoded data removed]",
      "text/plain": [
       "<Figure size 720x360 with 1 Axes>"
      ]
     },
     "metadata": {
      "needs_background": "light"
     },
     "output_type": "display_data"
    }
   ],
   "source": [
    "# group\n",
    "plt.figure(figsize=(10,5))\n",
    "sns.countplot(data=df, x= 'group',palette='muted');"
   ]
  },
  {
   "cell_type": "markdown",
   "id": "341a5b66",
   "metadata": {},
   "source": [
    "##### Observations\n",
    "* 50% of users were in the control group.\n",
    "* 50% of users were in the treatment group. "
   ]
  },
  {
   "cell_type": "code",
   "execution_count": 15,
   "id": "6650873a",
   "metadata": {
    "scrolled": true
   },
   "outputs": [
    {
     "data": {
      "image/png": "[encoded data removed]",
      "text/plain": [
       "<Figure size 720x360 with 1 Axes>"
      ]
     },
     "metadata": {
      "needs_background": "light"
     },
     "output_type": "display_data"
    }
   ],
   "source": [
    "# landing_page\n",
    "plt.figure(figsize=(10,5))\n",
    "sns.countplot(data=df, x= 'landing_page',palette='muted');"
   ]
  },
  {
   "cell_type": "markdown",
   "id": "3f33d82c",
   "metadata": {},
   "source": [
    "##### Observations\n",
    "* Those who were in the control group were shown the old landing page. \n",
    "* Those who were in the treatment group were shown the new landing page. "
   ]
  },
  {
   "cell_type": "code",
   "execution_count": 16,
   "id": "974fc0c7",
   "metadata": {
    "scrolled": true
   },
   "outputs": [
    {
     "data": {
      "image/png": "[encoded data removed]",
      "text/plain": [
       "<Figure size 720x360 with 1 Axes>"
      ]
     },
     "metadata": {
      "needs_background": "light"
     },
     "output_type": "display_data"
    }
   ],
   "source": [
    "# time_spent_on_the_page\n",
    "plt.figure(figsize=(10,5))\n",
    "sns.boxplot(data=df, x= 'time_spent_on_the_page',palette='muted');"
   ]
  },
  {
   "cell_type": "code",
   "execution_count": 17,
   "id": "5ce60297",
   "metadata": {
    "scrolled": true
   },
   "outputs": [
    {
     "data": {
      "image/png": "[encoded data removed]",
      "text/plain": [
       "<Figure size 720x360 with 1 Axes>"
      ]
     },
     "metadata": {
      "needs_background": "light"
     },
     "output_type": "display_data"
    }
   ],
   "source": [
    "plt.figure(figsize=(10,5))\n",
    "sns.histplot(data=df, x= 'time_spent_on_the_page',palette='muted',kde='True');"
   ]
  },
  {
   "cell_type": "markdown",
   "id": "27a2cf10",
   "metadata": {},
   "source": [
    "##### Observations\n",
    "* The median time spent on the page is between 5-6 minutes. \n",
    "* Time spent on page is normally distributed with no skew. "
   ]
  },
  {
   "cell_type": "code",
   "execution_count": 18,
   "id": "1bc0dcaf",
   "metadata": {
    "scrolled": true
   },
   "outputs": [
    {
     "data": {
      "image/png": "[encoded data removed]",
      "text/plain": [
       "<Figure size 720x360 with 1 Axes>"
      ]
     },
     "metadata": {
      "needs_background": "light"
     },
     "output_type": "display_data"
    }
   ],
   "source": [
    "# converted\n",
    "plt.figure(figsize=(10,5))\n",
    "sns.countplot(data=df, x= 'converted',palette='muted');"
   ]
  },
  {
   "cell_type": "markdown",
   "id": "1276c18d",
   "metadata": {},
   "source": [
    "###### Observations\n",
    "* Over 50% of respondents were converted to the new page. "
   ]
  },
  {
   "cell_type": "code",
   "execution_count": 19,
   "id": "6bc2ae04",
   "metadata": {},
   "outputs": [
    {
     "data": {
      "image/png": "[encoded data removed]",
      "text/plain": [
       "<Figure size 720x360 with 1 Axes>"
      ]
     },
     "metadata": {
      "needs_background": "light"
     },
     "output_type": "display_data"
    }
   ],
   "source": [
    "# language_preferred\n",
    "plt.figure(figsize=(10,5))\n",
    "sns.countplot(data=df, x= 'language_preferred',palette='muted');"
   ]
  },
  {
   "cell_type": "markdown",
   "id": "a701dfcd",
   "metadata": {},
   "source": [
    "###### Observations\n",
    "* The most preferred languages were French and Spanish, followed by English. "
   ]
  },
  {
   "cell_type": "markdown",
   "id": "fad2de2f",
   "metadata": {
    "id": "fad2de2f"
   },
   "source": [
    "### Bivariate Analysis"
   ]
  },
  {
   "cell_type": "markdown",
   "id": "f591bdb2",
   "metadata": {},
   "source": [
    "#### USER ID AND TIME SPENT ON PAGE"
   ]
  },
  {
   "cell_type": "code",
   "execution_count": 20,
   "id": "58e9a1d0",
   "metadata": {
    "id": "58e9a1d0",
    "scrolled": true
   },
   "outputs": [
    {
     "data": {
      "image/png": "[encoded data removed]",
      "text/plain": [
       "<Figure size 3600x360 with 1 Axes>"
      ]
     },
     "metadata": {
      "needs_background": "light"
     },
     "output_type": "display_data"
    }
   ],
   "source": [
    "# user_id, time spent on page \n",
    "plt.figure(figsize=(50,5))\n",
    "sns.barplot(data=df, x= 'user_id', y='time_spent_on_the_page', palette='muted');"
   ]
  },
  {
   "cell_type": "markdown",
   "id": "4363f46f",
   "metadata": {},
   "source": [
    "###### OBSERVATIONS:\n",
    "* There is no uniform distribution based on the user id and the time they spent on the page. "
   ]
  },
  {
   "cell_type": "code",
   "execution_count": 21,
   "id": "a19b9d04",
   "metadata": {},
   "outputs": [
    {
     "data": {
      "image/png": "[encoded data removed]",
      "text/plain": [
       "<Figure size 432x288 with 1 Axes>"
      ]
     },
     "metadata": {
      "needs_background": "light"
     },
     "output_type": "display_data"
    }
   ],
   "source": [
    "# preferred language and time spent on page\n",
    "\n",
    "sns.barplot(data=df, x='language_preferred', y='time_spent_on_the_page', palette='muted');\n"
   ]
  },
  {
   "cell_type": "code",
   "execution_count": 22,
   "id": "c3645729",
   "metadata": {
    "scrolled": false
   },
   "outputs": [
    {
     "data": {
      "image/png": "[encoded data removed]",
      "text/plain": [
       "<Figure size 418.375x360 with 6 Axes>"
      ]
     },
     "metadata": {
      "needs_background": "light"
     },
     "output_type": "display_data"
    }
   ],
   "source": [
    "sns.pairplot(df, hue='converted',palette='muted');"
   ]
  },
  {
   "cell_type": "markdown",
   "id": "0b037224",
   "metadata": {},
   "source": [
    "###### OBSERVATIONS:\n",
    "* English users spend the most time on the page followed by Spanish and French. "
   ]
  },
  {
   "cell_type": "code",
   "execution_count": 23,
   "id": "ea356fc8",
   "metadata": {},
   "outputs": [
    {
     "data": {
      "image/png": "[encoded data removed]",
      "text/plain": [
       "<Figure size 360x360 with 1 Axes>"
      ]
     },
     "metadata": {
      "needs_background": "light"
     },
     "output_type": "display_data"
    }
   ],
   "source": [
    "#group by time\n",
    "sns.catplot(data=df, x = 'group', y='time_spent_on_the_page', palette='muted');"
   ]
  },
  {
   "cell_type": "code",
   "execution_count": 24,
   "id": "feae0a19",
   "metadata": {
    "scrolled": true
   },
   "outputs": [
    {
     "data": {
      "image/png": "[encoded data removed]",
      "text/plain": [
       "<Figure size 432x288 with 1 Axes>"
      ]
     },
     "metadata": {
      "needs_background": "light"
     },
     "output_type": "display_data"
    }
   ],
   "source": [
    "sns.boxplot(data=df, x = 'group', y='time_spent_on_the_page', palette='muted');"
   ]
  },
  {
   "cell_type": "markdown",
   "id": "dd4584e5",
   "metadata": {},
   "source": [
    "###### OBSERVATIONS:\n",
    "* The treatment group, on average, spends more time on the page than the control group. "
   ]
  },
  {
   "cell_type": "code",
   "execution_count": 25,
   "id": "eae5ba4a",
   "metadata": {
    "scrolled": true
   },
   "outputs": [
    {
     "data": {
      "text/html": [
       "<div>\n",
       "<style scoped>\n",
       "    .dataframe tbody tr th:only-of-type {\n",
       "        vertical-align: middle;\n",
       "    }\n",
       "\n",
       "    .dataframe tbody tr th {\n",
       "        vertical-align: top;\n",
       "    }\n",
       "\n",
       "    .dataframe thead th {\n",
       "        text-align: right;\n",
       "    }\n",
       "</style>\n",
       "<table border=\"1\" class=\"dataframe\">\n",
       "  <thead>\n",
       "    <tr style=\"text-align: right;\">\n",
       "      <th>landing_page</th>\n",
       "      <th>new</th>\n",
       "      <th>old</th>\n",
       "    </tr>\n",
       "    <tr>\n",
       "      <th>converted</th>\n",
       "      <th></th>\n",
       "      <th></th>\n",
       "    </tr>\n",
       "  </thead>\n",
       "  <tbody>\n",
       "    <tr>\n",
       "      <th>no</th>\n",
       "      <td>17</td>\n",
       "      <td>29</td>\n",
       "    </tr>\n",
       "    <tr>\n",
       "      <th>yes</th>\n",
       "      <td>33</td>\n",
       "      <td>21</td>\n",
       "    </tr>\n",
       "  </tbody>\n",
       "</table>\n",
       "</div>"
      ],
      "text/plain": [
       "landing_page  new  old\n",
       "converted             \n",
       "no             17   29\n",
       "yes            33   21"
      ]
     },
     "execution_count": 25,
     "metadata": {},
     "output_type": "execute_result"
    }
   ],
   "source": [
    "# LANDING PAGE BY CONVERTED\n",
    "landing_page_ct = pd.crosstab(df['converted'],df['landing_page'])\n",
    "\n",
    "landing_page_ct"
   ]
  },
  {
   "cell_type": "code",
   "execution_count": 26,
   "id": "a86d187f",
   "metadata": {},
   "outputs": [
    {
     "data": {
      "image/png": "[encoded data removed]",
      "text/plain": [
       "<Figure size 432x288 with 1 Axes>"
      ]
     },
     "metadata": {
      "needs_background": "light"
     },
     "output_type": "display_data"
    }
   ],
   "source": [
    "landing_page_ct.plot.bar();"
   ]
  },
  {
   "cell_type": "markdown",
   "id": "dc329e50",
   "metadata": {},
   "source": [
    "###### OBSERVATIONS:\n",
    "* 12 more users on the new page are converted to the new landing page compared to the old page. \n",
    "* The old page is less likely to convert to the new landing page. \n",
    "* There is a strong correlation between the new landing page and conversion rate. "
   ]
  },
  {
   "cell_type": "code",
   "execution_count": 27,
   "id": "a50ded2b",
   "metadata": {
    "scrolled": false
   },
   "outputs": [
    {
     "data": {
      "text/html": [
       "<div>\n",
       "<style scoped>\n",
       "    .dataframe tbody tr th:only-of-type {\n",
       "        vertical-align: middle;\n",
       "    }\n",
       "\n",
       "    .dataframe tbody tr th {\n",
       "        vertical-align: top;\n",
       "    }\n",
       "\n",
       "    .dataframe thead th {\n",
       "        text-align: right;\n",
       "    }\n",
       "</style>\n",
       "<table border=\"1\" class=\"dataframe\">\n",
       "  <thead>\n",
       "    <tr style=\"text-align: right;\">\n",
       "      <th>landing_page</th>\n",
       "      <th>new</th>\n",
       "      <th>old</th>\n",
       "    </tr>\n",
       "    <tr>\n",
       "      <th>group</th>\n",
       "      <th></th>\n",
       "      <th></th>\n",
       "    </tr>\n",
       "  </thead>\n",
       "  <tbody>\n",
       "    <tr>\n",
       "      <th>control</th>\n",
       "      <td>0</td>\n",
       "      <td>50</td>\n",
       "    </tr>\n",
       "    <tr>\n",
       "      <th>treatment</th>\n",
       "      <td>50</td>\n",
       "      <td>0</td>\n",
       "    </tr>\n",
       "  </tbody>\n",
       "</table>\n",
       "</div>"
      ],
      "text/plain": [
       "landing_page  new  old\n",
       "group                 \n",
       "control         0   50\n",
       "treatment      50    0"
      ]
     },
     "execution_count": 27,
     "metadata": {},
     "output_type": "execute_result"
    }
   ],
   "source": [
    "# GROUP BY LANDING PAGE\n",
    "groupbylang_ct = pd.crosstab(df['group'],df['landing_page'])\n",
    "\n",
    "groupbylang_ct"
   ]
  },
  {
   "cell_type": "code",
   "execution_count": 28,
   "id": "c531872d",
   "metadata": {},
   "outputs": [
    {
     "data": {
      "image/png": "[encoded data removed]",
      "text/plain": [
       "<Figure size 432x288 with 1 Axes>"
      ]
     },
     "metadata": {
      "needs_background": "light"
     },
     "output_type": "display_data"
    }
   ],
   "source": [
    "groupbylang_ct.plot.bar();"
   ]
  },
  {
   "cell_type": "markdown",
   "id": "dea27160",
   "metadata": {},
   "source": [
    "###### OBSERVATIONS:\n",
    "* As suggested in the outline, those who viewed the new landing page are in the treatment group. Those who viewed the old landing page are in the control group. \n",
    "* There is a perfect 50/50 split between the control group and the treatment group. "
   ]
  },
  {
   "cell_type": "code",
   "execution_count": 29,
   "id": "6727ac36",
   "metadata": {
    "scrolled": true
   },
   "outputs": [
    {
     "data": {
      "image/png": "[encoded data removed]",
      "text/plain": [
       "<Figure size 432x288 with 1 Axes>"
      ]
     },
     "metadata": {
      "needs_background": "light"
     },
     "output_type": "display_data"
    }
   ],
   "source": [
    "# TIME BY LANGUAGE\n",
    "sns.boxplot(data=df, x = 'language_preferred', y='time_spent_on_the_page', palette='muted');"
   ]
  },
  {
   "cell_type": "markdown",
   "id": "82528d0a",
   "metadata": {},
   "source": [
    "###### OBSERVATIONS:\n",
    "* There seems to be little difference between the median time individuals spent on the landing page based on their preferred language. "
   ]
  },
  {
   "cell_type": "code",
   "execution_count": 30,
   "id": "07c62b82",
   "metadata": {
    "scrolled": false
   },
   "outputs": [
    {
     "data": {
      "text/html": [
       "<div>\n",
       "<style scoped>\n",
       "    .dataframe tbody tr th:only-of-type {\n",
       "        vertical-align: middle;\n",
       "    }\n",
       "\n",
       "    .dataframe tbody tr th {\n",
       "        vertical-align: top;\n",
       "    }\n",
       "\n",
       "    .dataframe thead th {\n",
       "        text-align: right;\n",
       "    }\n",
       "</style>\n",
       "<table border=\"1\" class=\"dataframe\">\n",
       "  <thead>\n",
       "    <tr style=\"text-align: right;\">\n",
       "      <th>converted</th>\n",
       "      <th>no</th>\n",
       "      <th>yes</th>\n",
       "    </tr>\n",
       "    <tr>\n",
       "      <th>language_preferred</th>\n",
       "      <th></th>\n",
       "      <th></th>\n",
       "    </tr>\n",
       "  </thead>\n",
       "  <tbody>\n",
       "    <tr>\n",
       "      <th>English</th>\n",
       "      <td>11</td>\n",
       "      <td>21</td>\n",
       "    </tr>\n",
       "    <tr>\n",
       "      <th>French</th>\n",
       "      <td>19</td>\n",
       "      <td>15</td>\n",
       "    </tr>\n",
       "    <tr>\n",
       "      <th>Spanish</th>\n",
       "      <td>16</td>\n",
       "      <td>18</td>\n",
       "    </tr>\n",
       "  </tbody>\n",
       "</table>\n",
       "</div>"
      ],
      "text/plain": [
       "converted           no  yes\n",
       "language_preferred         \n",
       "English             11   21\n",
       "French              19   15\n",
       "Spanish             16   18"
      ]
     },
     "execution_count": 30,
     "metadata": {},
     "output_type": "execute_result"
    }
   ],
   "source": [
    "# LANGUAGE BY CONVERSION\n",
    "langbyconv_ct = pd.crosstab(df['language_preferred'],df['converted'])\n",
    "\n",
    "langbyconv_ct"
   ]
  },
  {
   "cell_type": "code",
   "execution_count": 31,
   "id": "1218d395",
   "metadata": {},
   "outputs": [
    {
     "data": {
      "image/png": "[encoded data removed]",
      "text/plain": [
       "<Figure size 432x288 with 1 Axes>"
      ]
     },
     "metadata": {
      "needs_background": "light"
     },
     "output_type": "display_data"
    }
   ],
   "source": [
    "langbyconv_ct.plot.bar();"
   ]
  },
  {
   "cell_type": "markdown",
   "id": "df7418c0",
   "metadata": {},
   "source": [
    "###### OBSERVATIONS:\n",
    "* English users are more likely to be converted to subscribers. They are followed by Spanish users at 18 conversions, and French users at 15 conversions. \n",
    "* Those who preferred French as their viewing language are less likely to convert to the new page than other users. \n",
    "* However, there may be other factors at play for the correlation between preferred language and conversion rate. Correlation does not equate causation. "
   ]
  },
  {
   "cell_type": "markdown",
   "id": "27906576",
   "metadata": {
    "id": "27906576"
   },
   "source": [
    "## 1. Do the users spend more time on the new landing page than the existing landing page?"
   ]
  },
  {
   "cell_type": "markdown",
   "id": "e5fdf0c8",
   "metadata": {
    "id": "e5fdf0c8"
   },
   "source": [
    "### Perform Visual Analysis"
   ]
  },
  {
   "cell_type": "code",
   "execution_count": 32,
   "id": "b7815f0c",
   "metadata": {},
   "outputs": [
    {
     "data": {
      "image/png": "[encoded data removed]",
      "text/plain": [
       "<Figure size 432x288 with 1 Axes>"
      ]
     },
     "metadata": {
      "needs_background": "light"
     },
     "output_type": "display_data"
    }
   ],
   "source": [
    "plt.figure\n",
    "sns.histplot(data=df, x='time_spent_on_the_page',hue='landing_page',palette='muted',kde=True);\n",
    "plt.show()"
   ]
  },
  {
   "cell_type": "markdown",
   "id": "1b1bedf8",
   "metadata": {},
   "source": [
    "###### Observations\n",
    "* Both landing pages are normally distributed. \n",
    "* Individuals who viewed the old landing page appear to spend less time on average than those on the new page. "
   ]
  },
  {
   "cell_type": "code",
   "execution_count": 33,
   "id": "f4a81d88",
   "metadata": {},
   "outputs": [
    {
     "data": {
      "image/png": "[encoded data removed]",
      "text/plain": [
       "<Figure size 432x288 with 1 Axes>"
      ]
     },
     "metadata": {
      "needs_background": "light"
     },
     "output_type": "display_data"
    }
   ],
   "source": [
    "# plot the distribution of time spent on the page\n",
    "sns.kdeplot(df['time_spent_on_the_page'],shade='True', palette='muted');"
   ]
  },
  {
   "cell_type": "markdown",
   "id": "6eebffae",
   "metadata": {},
   "source": [
    "###### Observations\n",
    "* Time spent on the page is normally distributed with no skewness. \n",
    "* Most participants spend between 5 and 6 minutes on the page. "
   ]
  },
  {
   "cell_type": "markdown",
   "id": "56b3dafd",
   "metadata": {
    "id": "56b3dafd"
   },
   "source": [
    "### Step 1: Define the null and alternate hypotheses"
   ]
  },
  {
   "cell_type": "markdown",
   "id": "d2ac77ef",
   "metadata": {
    "id": "d2ac77ef"
   },
   "source": [
    "\n",
    "Let $\\mu_1, \\mu_2$ be the mean time spent on the **new landing page** and **existing landing page** respectively.\n",
    "\n",
    "#### Null Hypothesis: \n",
    "* Users spend equal time on the new landing page as the existing landing page.\n",
    "* $H_0:\\mu_1=\\mu_2$\n",
    "\n",
    "#### Alternate Hypothesis:\n",
    "* Users spend more time on the new landing page when compared to the existing landing page. \n",
    "* $H_a:\\mu_1>\\mu_2$"
   ]
  },
  {
   "cell_type": "markdown",
   "id": "c7ee4907",
   "metadata": {
    "id": "c7ee4907"
   },
   "source": [
    "### Step 2: Select Appropriate test"
   ]
  },
  {
   "cell_type": "markdown",
   "id": "2c183cd7",
   "metadata": {
    "id": "2c183cd7"
   },
   "source": [
    "Test significance\n",
    "* We are testing for the equality of two population means wherein the null hypothesis is $H_0:\\mu_1=\\mu_2$\n",
    "\n",
    "Assumptions\n",
    "* The data is continuous.\n",
    "* The population is normally distributed.\n",
    "* The two populations are independent of one another. \n",
    "* The standard deviation of the population is unknown. \n",
    "\n",
    "Therefore\n",
    "* **two sample independent sample t-test is used.** "
   ]
  },
  {
   "cell_type": "markdown",
   "id": "3f58c9a7",
   "metadata": {
    "id": "3f58c9a7"
   },
   "source": [
    "### Step 3: Decide the significance level"
   ]
  },
  {
   "cell_type": "markdown",
   "id": "92d7d7ee",
   "metadata": {
    "id": "92d7d7ee"
   },
   "source": [
    "* As outlined in the business context and objectives, the significance level for this project is .05"
   ]
  },
  {
   "cell_type": "markdown",
   "id": "5fed2eac",
   "metadata": {
    "id": "5fed2eac"
   },
   "source": [
    "### Step 4: Collect and prepare data"
   ]
  },
  {
   "cell_type": "code",
   "execution_count": 34,
   "id": "f5a59495",
   "metadata": {
    "id": "f5a59495"
   },
   "outputs": [],
   "source": [
    "new_page=df.query('landing_page==\"new\"')['time_spent_on_the_page']\n",
    "existing_page=df.query('landing_page==\"old\"')['time_spent_on_the_page']"
   ]
  },
  {
   "cell_type": "code",
   "execution_count": 35,
   "id": "5ca1c186",
   "metadata": {
    "scrolled": true
   },
   "outputs": [
    {
     "data": {
      "text/html": [
       "<div>\n",
       "<style scoped>\n",
       "    .dataframe tbody tr th:only-of-type {\n",
       "        vertical-align: middle;\n",
       "    }\n",
       "\n",
       "    .dataframe tbody tr th {\n",
       "        vertical-align: top;\n",
       "    }\n",
       "\n",
       "    .dataframe thead tr th {\n",
       "        text-align: left;\n",
       "    }\n",
       "\n",
       "    .dataframe thead tr:last-of-type th {\n",
       "        text-align: right;\n",
       "    }\n",
       "</style>\n",
       "<table border=\"1\" class=\"dataframe\">\n",
       "  <thead>\n",
       "    <tr>\n",
       "      <th></th>\n",
       "      <th colspan=\"8\" halign=\"left\">time_spent_on_the_page</th>\n",
       "    </tr>\n",
       "    <tr>\n",
       "      <th></th>\n",
       "      <th>count</th>\n",
       "      <th>mean</th>\n",
       "      <th>std</th>\n",
       "      <th>min</th>\n",
       "      <th>25%</th>\n",
       "      <th>50%</th>\n",
       "      <th>75%</th>\n",
       "      <th>max</th>\n",
       "    </tr>\n",
       "    <tr>\n",
       "      <th>landing_page</th>\n",
       "      <th></th>\n",
       "      <th></th>\n",
       "      <th></th>\n",
       "      <th></th>\n",
       "      <th></th>\n",
       "      <th></th>\n",
       "      <th></th>\n",
       "      <th></th>\n",
       "    </tr>\n",
       "  </thead>\n",
       "  <tbody>\n",
       "    <tr>\n",
       "      <th>new</th>\n",
       "      <td>50.0</td>\n",
       "      <td>6.2232</td>\n",
       "      <td>1.817031</td>\n",
       "      <td>1.65</td>\n",
       "      <td>5.175</td>\n",
       "      <td>6.105</td>\n",
       "      <td>7.1600</td>\n",
       "      <td>10.71</td>\n",
       "    </tr>\n",
       "    <tr>\n",
       "      <th>old</th>\n",
       "      <td>50.0</td>\n",
       "      <td>4.5324</td>\n",
       "      <td>2.581975</td>\n",
       "      <td>0.19</td>\n",
       "      <td>2.720</td>\n",
       "      <td>4.380</td>\n",
       "      <td>6.4425</td>\n",
       "      <td>10.30</td>\n",
       "    </tr>\n",
       "  </tbody>\n",
       "</table>\n",
       "</div>"
      ],
      "text/plain": [
       "             time_spent_on_the_page                                        \\\n",
       "                              count    mean       std   min    25%    50%   \n",
       "landing_page                                                                \n",
       "new                            50.0  6.2232  1.817031  1.65  5.175  6.105   \n",
       "old                            50.0  4.5324  2.581975  0.19  2.720  4.380   \n",
       "\n",
       "                             \n",
       "                 75%    max  \n",
       "landing_page                 \n",
       "new           7.1600  10.71  \n",
       "old           6.4425  10.30  "
      ]
     },
     "execution_count": 35,
     "metadata": {},
     "output_type": "execute_result"
    }
   ],
   "source": [
    "df.groupby('landing_page').describe()\n",
    "# find sample mean and sample standard deviation based on landing_page\n",
    "# sample mean for new is 6.22\n",
    "# sample mean for old is 4.53 "
   ]
  },
  {
   "cell_type": "markdown",
   "id": "f5c5258d",
   "metadata": {
    "id": "f5c5258d"
   },
   "source": [
    "### Step 5: Calculate the p-value"
   ]
  },
  {
   "cell_type": "code",
   "execution_count": 36,
   "id": "fac8594a",
   "metadata": {
    "id": "fac8594a"
   },
   "outputs": [
    {
     "name": "stdout",
     "output_type": "stream",
     "text": [
      "The p-value is  0.0001392381225166549\n"
     ]
    }
   ],
   "source": [
    "#import the required functions\n",
    "from scipy.stats import ttest_ind\n",
    "\n",
    "# find the p-value\n",
    "test_stat, p_value = ttest_ind(new_page, existing_page, equal_var = False, alternative = 'greater')\n",
    "print('The p-value is ', p_value)"
   ]
  },
  {
   "cell_type": "markdown",
   "id": "359b12f8",
   "metadata": {
    "id": "359b12f8"
   },
   "source": [
    "### Step 6: Compare the p-value with $\\alpha$"
   ]
  },
  {
   "cell_type": "code",
   "execution_count": 37,
   "id": "514c5fd9",
   "metadata": {},
   "outputs": [
    {
     "name": "stdout",
     "output_type": "stream",
     "text": [
      "The p-value is less than the level of significance; therefore, we reject the null hypothesis.\n"
     ]
    }
   ],
   "source": [
    "# if-else loop to compare the p-value\n",
    "if p_value < 0.05:\n",
    "    print('The p-value is less than the level of significance; therefore, we reject the null hypothesis.')\n",
    "else:\n",
    "    print('The p-value is greater than the level of significance; therefore, we fail to reject the null hypothesis')"
   ]
  },
  {
   "cell_type": "markdown",
   "id": "d9affc84",
   "metadata": {
    "id": "d9affc84"
   },
   "source": [
    "### Step 7:  Draw inference"
   ]
  },
  {
   "cell_type": "markdown",
   "id": "6b16dd4b",
   "metadata": {
    "id": "6b16dd4b"
   },
   "source": [
    "* The p-value .000139 is less than the level of significance (.05); therefore, we reject the null hypothesis because there is not enough evidence to support that users spend the same amount of time on the existing page as the new page. \n",
    "* Therefore we can say that there is enough statistical evidence to support the assertion that users spend more time on the new page than the existing page. "
   ]
  },
  {
   "cell_type": "markdown",
   "id": "1ad0823a",
   "metadata": {
    "id": "1ad0823a"
   },
   "source": [
    "**A similar approach can be followed to answer the other questions.**"
   ]
  },
  {
   "cell_type": "markdown",
   "id": "353e9d24",
   "metadata": {
    "id": "353e9d24"
   },
   "source": [
    "## 2. Is the conversion rate (the proportion of users who visit the landing page and get converted) for the new page greater than the conversion rate for the old page?"
   ]
  },
  {
   "cell_type": "code",
   "execution_count": 38,
   "id": "0af02844",
   "metadata": {},
   "outputs": [
    {
     "data": {
      "image/png": "[encoded data removed]",
      "text/plain": [
       "<Figure size 720x360 with 1 Axes>"
      ]
     },
     "metadata": {
      "needs_background": "light"
     },
     "output_type": "display_data"
    }
   ],
   "source": [
    "# visual analysis\n",
    "plt.figure(figsize=(10,5))\n",
    "sns.countplot(data=df, x= 'landing_page',hue='converted', palette='muted');"
   ]
  },
  {
   "cell_type": "code",
   "execution_count": 39,
   "id": "2c8f2b30",
   "metadata": {
    "scrolled": true
   },
   "outputs": [
    {
     "data": {
      "text/plain": [
       "landing_page  converted\n",
       "new           yes          33\n",
       "              no           17\n",
       "old           no           29\n",
       "              yes          21\n",
       "Name: converted, dtype: int64"
      ]
     },
     "execution_count": 39,
     "metadata": {},
     "output_type": "execute_result"
    }
   ],
   "source": [
    "# visual analysis\n",
    "df.groupby(['landing_page'])['converted'].value_counts()"
   ]
  },
  {
   "cell_type": "markdown",
   "id": "072b4d68",
   "metadata": {},
   "source": [
    "###### Observations:\n",
    "* More users converted on the new landing page compared to the old landing page. "
   ]
  },
  {
   "cell_type": "markdown",
   "id": "188c2fea",
   "metadata": {},
   "source": [
    "### Step 1: Define the null and alternate hypotheses"
   ]
  },
  {
   "cell_type": "markdown",
   "id": "78f1645d",
   "metadata": {
    "id": "b7f52898"
   },
   "source": [
    "Let $\\mu_1, \\mu_2$ be the conversion rate for the **new landing page** and **existing landing page** respectively.\n",
    "\n",
    "#### Null Hypothesis: \n",
    "* The conversion rate for the new page is the same as the conversion rate for the old page.\n",
    "* $H_0:\\mu_1=\\mu_2$\n",
    "\n",
    "#### Alternate Hypothesis:\n",
    "* The conversion rate for the new page is greater than the conversion rate for the old page. \n",
    "* $H_a:\\mu_1 \\neq \\mu_2$"
   ]
  },
  {
   "cell_type": "markdown",
   "id": "76ce1842",
   "metadata": {},
   "source": [
    "### Step 2: Select Appropriate test"
   ]
  },
  {
   "cell_type": "markdown",
   "id": "a0be45ee",
   "metadata": {},
   "source": [
    "Test significance\n",
    "* We are comparing two sample proportions from two populations wherein the null hypothesis is $H_0:\\mu_1=\\mu_2$\n",
    "\n",
    "Assumptions\n",
    "* The variables are categorical. \n",
    "* Binomially distributed populations. \n",
    "* The two populations are independent of one another. \n",
    "* Random sampling. \n",
    "\n",
    "Therefore\n",
    "* **the two proportions z-test is used.** "
   ]
  },
  {
   "cell_type": "markdown",
   "id": "f340acb6",
   "metadata": {},
   "source": [
    "### Step 3: Decide the significance level"
   ]
  },
  {
   "cell_type": "markdown",
   "id": "e30df414",
   "metadata": {},
   "source": [
    "As outlined in the problem statement, the level of significance will be .05."
   ]
  },
  {
   "cell_type": "markdown",
   "id": "61e3b4f1",
   "metadata": {},
   "source": [
    "### Step 4: Collect and prepare data"
   ]
  },
  {
   "cell_type": "code",
   "execution_count": 40,
   "id": "c23e7d9f",
   "metadata": {
    "scrolled": true
   },
   "outputs": [
    {
     "data": {
      "text/plain": [
       "old    50\n",
       "new    50\n",
       "Name: landing_page, dtype: int64"
      ]
     },
     "execution_count": 40,
     "metadata": {},
     "output_type": "execute_result"
    }
   ],
   "source": [
    "# print data frame to view data counts for landing page \n",
    "df['landing_page'].value_counts()"
   ]
  },
  {
   "cell_type": "code",
   "execution_count": 41,
   "id": "b4dbf3d6",
   "metadata": {},
   "outputs": [
    {
     "name": "stdout",
     "output_type": "stream",
     "text": [
      "33 out of 50 people were converted using the new landing page\n"
     ]
    }
   ],
   "source": [
    "# view how many individuals were converted using the new landing page \n",
    "new_conv=df[df['landing_page']=='new']['converted'].value_counts()['yes']\n",
    "print(new_conv, 'out of 50 people were converted using the new landing page')"
   ]
  },
  {
   "cell_type": "code",
   "execution_count": 42,
   "id": "d03aba01",
   "metadata": {},
   "outputs": [
    {
     "name": "stdout",
     "output_type": "stream",
     "text": [
      "21 out of 50 people were converted using the existing landing page\n"
     ]
    }
   ],
   "source": [
    "# view how many users were converted using the old landing page \n",
    "existing_conv=df[df['landing_page']=='old']['converted'].value_counts()['yes']\n",
    "print(existing_conv, 'out of 50 people were converted using the existing landing page')"
   ]
  },
  {
   "cell_type": "markdown",
   "id": "ec266113",
   "metadata": {},
   "source": [
    "### Step 5: Calculate the p-value"
   ]
  },
  {
   "cell_type": "code",
   "execution_count": 43,
   "id": "04fe3d69",
   "metadata": {},
   "outputs": [
    {
     "name": "stdout",
     "output_type": "stream",
     "text": [
      "The p-value is 0.008026308204056278\n"
     ]
    }
   ],
   "source": [
    "# import the required fuction\n",
    "from statsmodels.stats.proportion import proportions_ztest\n",
    "\n",
    "# set the counts of conversions items\n",
    "conv_count = np.array([33, 21])\n",
    "\n",
    "# set the sample sizes\n",
    "nobs = np.array([50, 50])\n",
    "\n",
    "# find the p-value\n",
    "test_stat, p_value = proportions_ztest(conv_count, nobs,alternative='larger')\n",
    "print('The p-value is ' + str(p_value))"
   ]
  },
  {
   "cell_type": "markdown",
   "id": "0405edf7",
   "metadata": {},
   "source": [
    "### Step 6: Compare the p-value with $\\alpha$"
   ]
  },
  {
   "cell_type": "code",
   "execution_count": 44,
   "id": "9bb341bc",
   "metadata": {},
   "outputs": [
    {
     "name": "stdout",
     "output_type": "stream",
     "text": [
      "The p-value is less than the level of significance; therefore, we reject the null hypothesis.\n"
     ]
    }
   ],
   "source": [
    "#if-else statement to compare the p-value with alpha\n",
    " \n",
    "if p_value < 0.05:\n",
    "    print('The p-value is less than the level of significance; therefore, we reject the null hypothesis.')\n",
    "else:\n",
    "    print('The p-value is greater than the level of significance; therefore, we fail to reject the null hypothesis')"
   ]
  },
  {
   "cell_type": "markdown",
   "id": "a3ca7b05",
   "metadata": {},
   "source": [
    "### Step 7:  Draw inference"
   ]
  },
  {
   "cell_type": "markdown",
   "id": "e9ea7b56",
   "metadata": {},
   "source": [
    "* As the p-value is less than 0.05, we reject the null hypothesis that the conversion rate for the new page and the old page are the same. \n",
    "* There is enough statistical evidence to support the assertion that the new page has a higher conversion rate than the old page. "
   ]
  },
  {
   "cell_type": "markdown",
   "id": "d49bfa2d",
   "metadata": {
    "id": "d49bfa2d"
   },
   "source": [
    "## 3. Is the conversion and preferred language are independent or related?"
   ]
  },
  {
   "cell_type": "code",
   "execution_count": 45,
   "id": "52ece73b",
   "metadata": {},
   "outputs": [
    {
     "data": {
      "text/plain": [
       "language_preferred  converted\n",
       "English             yes          21\n",
       "                    no           11\n",
       "French              no           19\n",
       "                    yes          15\n",
       "Spanish             yes          18\n",
       "                    no           16\n",
       "Name: converted, dtype: int64"
      ]
     },
     "execution_count": 45,
     "metadata": {},
     "output_type": "execute_result"
    }
   ],
   "source": [
    "# visual analysis\n",
    "df.groupby(['language_preferred'])['converted'].value_counts()"
   ]
  },
  {
   "cell_type": "code",
   "execution_count": 46,
   "id": "36c9a152",
   "metadata": {
    "scrolled": true
   },
   "outputs": [
    {
     "data": {
      "image/png": "[encoded data removed]",
      "text/plain": [
       "<Figure size 432x288 with 1 Axes>"
      ]
     },
     "metadata": {
      "needs_background": "light"
     },
     "output_type": "display_data"
    }
   ],
   "source": [
    "# show the relationship between language and conversion rate \n",
    "sns.countplot(data=df, x='language_preferred', hue='converted', palette='muted');"
   ]
  },
  {
   "cell_type": "markdown",
   "id": "3c765db4",
   "metadata": {},
   "source": [
    "###### Observations:\n",
    "* Spanish and English users were more likely to convert than their French counterparts. \n",
    "* English had the highest difference in conversion with nearly twice as many conversions than non conversions. "
   ]
  },
  {
   "cell_type": "markdown",
   "id": "befa9578",
   "metadata": {},
   "source": [
    "### Step 1: Define the null and alternate hypotheses"
   ]
  },
  {
   "cell_type": "markdown",
   "id": "891e6d62",
   "metadata": {
    "id": "b0e63f17"
   },
   "source": [
    "The two variables tested will be conversion rate and preferred language. \n",
    "\n",
    "#### Null Hypothesis: \n",
    "* $H_0:$ In a contingency table, the conversion rate is independent of preferred language. \n",
    "\n",
    "#### Alternate Hypothesis:\n",
    "* $H_a:$ In a contingency table, the conversion rate is dependent on preferred language. "
   ]
  },
  {
   "cell_type": "markdown",
   "id": "dea69708",
   "metadata": {},
   "source": [
    "### Step 2: Select Appropriate test "
   ]
  },
  {
   "cell_type": "markdown",
   "id": "542baba1",
   "metadata": {},
   "source": [
    "Test significance\n",
    "* We are comparing two variables wherein the null hypothesis is $H_0:$ the row and column variables are independent. \n",
    "\n",
    "Assumptions\n",
    "* The variables are categorical. \n",
    "* Expected value of the number of sample observations in each level of the variable is at least 5. \n",
    "* Random sampling is used for this experiment. \n",
    "\n",
    "Therefore\n",
    "* **The Chi-square test of independence is the appropriate test.** "
   ]
  },
  {
   "cell_type": "markdown",
   "id": "eb91905d",
   "metadata": {},
   "source": [
    "### Step 3: Decide the significance level"
   ]
  },
  {
   "cell_type": "markdown",
   "id": "14877cef",
   "metadata": {},
   "source": [
    "As outlined in the problem statement, the level of significance will be .05."
   ]
  },
  {
   "cell_type": "markdown",
   "id": "d23a73b7",
   "metadata": {},
   "source": [
    "### Step 4: Collect and prepare data"
   ]
  },
  {
   "cell_type": "code",
   "execution_count": 47,
   "id": "7152d277",
   "metadata": {},
   "outputs": [
    {
     "data": {
      "text/plain": [
       "language_preferred  converted\n",
       "English             yes          21\n",
       "                    no           11\n",
       "French              no           19\n",
       "                    yes          15\n",
       "Spanish             yes          18\n",
       "                    no           16\n",
       "Name: converted, dtype: int64"
      ]
     },
     "execution_count": 47,
     "metadata": {},
     "output_type": "execute_result"
    }
   ],
   "source": [
    "# show converted by preferred language \n",
    "df.groupby(['language_preferred'])['converted'].value_counts()\n",
    "# check the value counts in a table"
   ]
  },
  {
   "cell_type": "code",
   "execution_count": 48,
   "id": "97ab7b63",
   "metadata": {},
   "outputs": [
    {
     "data": {
      "text/html": [
       "<div>\n",
       "<style scoped>\n",
       "    .dataframe tbody tr th:only-of-type {\n",
       "        vertical-align: middle;\n",
       "    }\n",
       "\n",
       "    .dataframe tbody tr th {\n",
       "        vertical-align: top;\n",
       "    }\n",
       "\n",
       "    .dataframe thead th {\n",
       "        text-align: right;\n",
       "    }\n",
       "</style>\n",
       "<table border=\"1\" class=\"dataframe\">\n",
       "  <thead>\n",
       "    <tr style=\"text-align: right;\">\n",
       "      <th>language_preferred</th>\n",
       "      <th>English</th>\n",
       "      <th>French</th>\n",
       "      <th>Spanish</th>\n",
       "    </tr>\n",
       "    <tr>\n",
       "      <th>converted</th>\n",
       "      <th></th>\n",
       "      <th></th>\n",
       "      <th></th>\n",
       "    </tr>\n",
       "  </thead>\n",
       "  <tbody>\n",
       "    <tr>\n",
       "      <th>no</th>\n",
       "      <td>11</td>\n",
       "      <td>19</td>\n",
       "      <td>16</td>\n",
       "    </tr>\n",
       "    <tr>\n",
       "      <th>yes</th>\n",
       "      <td>21</td>\n",
       "      <td>15</td>\n",
       "      <td>18</td>\n",
       "    </tr>\n",
       "  </tbody>\n",
       "</table>\n",
       "</div>"
      ],
      "text/plain": [
       "language_preferred  English  French  Spanish\n",
       "converted                                   \n",
       "no                       11      19       16\n",
       "yes                      21      15       18"
      ]
     },
     "execution_count": 48,
     "metadata": {},
     "output_type": "execute_result"
    }
   ],
   "source": [
    "# create a contingency table \n",
    "cont_table = pd.crosstab(df['converted'],df['language_preferred'])\n",
    "\n",
    "cont_table"
   ]
  },
  {
   "cell_type": "markdown",
   "id": "66692ae1",
   "metadata": {},
   "source": [
    "### Step 5: Calculate the p-value"
   ]
  },
  {
   "cell_type": "code",
   "execution_count": 49,
   "id": "4b1394a2",
   "metadata": {},
   "outputs": [
    {
     "name": "stdout",
     "output_type": "stream",
     "text": [
      "The p-value is 0.21298887487543447\n"
     ]
    }
   ],
   "source": [
    "# find the p-value\n",
    "# import required function\n",
    "from scipy.stats import chi2_contingency\n",
    "\n",
    "# calculate the p-value using the information from the contingency table. \n",
    "chi, p_value, dof, expected = chi2_contingency(cont_table)\n",
    "\n",
    "# print the p-value based on the calculation\n",
    "print('The p-value is', p_value)"
   ]
  },
  {
   "cell_type": "markdown",
   "id": "2c5189ec",
   "metadata": {},
   "source": [
    "### Step 6: Compare the p-value with $\\alpha$"
   ]
  },
  {
   "cell_type": "code",
   "execution_count": 50,
   "id": "36223a97",
   "metadata": {},
   "outputs": [
    {
     "name": "stdout",
     "output_type": "stream",
     "text": [
      "The p-value is greater than the level of significance; therefore, we fail to reject the null hypothesis.\n"
     ]
    }
   ],
   "source": [
    "# use an if - else loop to compare the p-value with alpha. \n",
    "if p_value < 0.05:\n",
    "    print('The p-value is less than the level of significance; therefore, we reject the null hypothesis.')\n",
    "else:\n",
    "    print('The p-value is greater than the level of significance; therefore, we fail to reject the null hypothesis.')"
   ]
  },
  {
   "cell_type": "markdown",
   "id": "e594f3e3",
   "metadata": {},
   "source": [
    "### Step 7:  Draw inference"
   ]
  },
  {
   "cell_type": "markdown",
   "id": "f0401cf0",
   "metadata": {},
   "source": [
    "As the p-value (21%) is greater than 5%, we fail to reject the null hypothesis. Based on statistical evidence, the conversion rate and preferred language are independent. "
   ]
  },
  {
   "cell_type": "markdown",
   "id": "8d585a90",
   "metadata": {
    "id": "8d585a90"
   },
   "source": [
    "## 4. Is the time spent on the new page same for the different language users?"
   ]
  },
  {
   "cell_type": "code",
   "execution_count": 51,
   "id": "b703bc31",
   "metadata": {
    "scrolled": true
   },
   "outputs": [
    {
     "data": {
      "image/png": "[encoded data removed]",
      "text/plain": [
       "<Figure size 432x288 with 1 Axes>"
      ]
     },
     "metadata": {
      "needs_background": "light"
     },
     "output_type": "display_data"
    }
   ],
   "source": [
    "# visual analysis\n",
    "# print a boxplot for visualization\n",
    "sns.boxplot(data=df, x='language_preferred', y='time_spent_on_the_page',palette='muted');"
   ]
  },
  {
   "cell_type": "code",
   "execution_count": 52,
   "id": "69aa1e5a",
   "metadata": {
    "scrolled": true
   },
   "outputs": [
    {
     "data": {
      "image/png": "[encoded data removed]",
      "text/plain": [
       "<Figure size 432x288 with 1 Axes>"
      ]
     },
     "metadata": {
      "needs_background": "light"
     },
     "output_type": "display_data"
    }
   ],
   "source": [
    "# print a violin plot for visualization\n",
    "sns.violinplot(data=df, x='language_preferred', y='time_spent_on_the_page',palette='muted');"
   ]
  },
  {
   "cell_type": "code",
   "execution_count": 53,
   "id": "0a21f6f7",
   "metadata": {
    "scrolled": true
   },
   "outputs": [
    {
     "data": {
      "image/png": "[encoded data removed]",
      "text/plain": [
       "<Figure size 432x288 with 1 Axes>"
      ]
     },
     "metadata": {
      "needs_background": "light"
     },
     "output_type": "display_data"
    }
   ],
   "source": [
    "# print a scatterplot for visualization\n",
    "sns.scatterplot(data=df, x='language_preferred', y='time_spent_on_the_page', palette='muted');"
   ]
  },
  {
   "cell_type": "code",
   "execution_count": 54,
   "id": "6dfa3fae",
   "metadata": {},
   "outputs": [
    {
     "data": {
      "text/plain": [
       "language_preferred\n",
       "English    5.559062\n",
       "French     5.253235\n",
       "Spanish    5.331765\n",
       "Name: time_spent_on_the_page, dtype: float64"
      ]
     },
     "execution_count": 54,
     "metadata": {},
     "output_type": "execute_result"
    }
   ],
   "source": [
    "# print the mean time spent on the page by preferred language. \n",
    "df.groupby('language_preferred')['time_spent_on_the_page'].mean()"
   ]
  },
  {
   "cell_type": "markdown",
   "id": "885c52d2",
   "metadata": {},
   "source": [
    "### Step 1: Define the null and alternate hypotheses"
   ]
  },
  {
   "cell_type": "markdown",
   "id": "7779aeb4",
   "metadata": {
    "id": "b422f395"
   },
   "source": [
    "Let $\\mu_1, \\mu_2$, $\\mu_3$ be the mean time spent on the page when a user chooses Spanish, English, and French as their preferred language, respectively. \n",
    "\n",
    "#### Null Hypothesis: \n",
    "* The mean time spent on the page is the same.\n",
    ">$H_0:\\mu_1 = \\mu_2$ $ = \\mu_3$\n",
    "\n",
    "#### Alternate Hypothesis:\n",
    "* At least one mean time spent on the page is not the same.  "
   ]
  },
  {
   "cell_type": "markdown",
   "id": "38a9e502",
   "metadata": {},
   "source": [
    "### Step 2: Select Appropriate test"
   ]
  },
  {
   "cell_type": "markdown",
   "id": "b0378e07",
   "metadata": {},
   "source": [
    "Test significance\n",
    "* We are comparing three variables wherein the null hypothesis is $H_0:$ all population means are equal. \n",
    "\n",
    "Assumptions\n",
    "* The populations are normally distributed.\n",
    "* Samples are independent simple random samples.\n",
    "* Population variances are equal. \n",
    "\n",
    "We must first determine if the populations are normally distributed before continuing with a One-way ANOVA test using Shapiro-Wilk's test. \n",
    "\n",
    "Then we must test if the population variances are equal in order to meet the assumptions of the One-way ANOVA test using Levene's test. \n"
   ]
  },
  {
   "cell_type": "markdown",
   "id": "34d14ad9",
   "metadata": {},
   "source": [
    "##### Shapiro-Wilk's test\n",
    "Null hypothesis\n",
    ">$H_0:$ The mean time spent on the page follows a normal distribution. \n",
    "\n",
    "Alternative hypothesis\n",
    "\n",
    ">$H_a:$ The mean time spent on the page does not follow a normal distribution. "
   ]
  },
  {
   "cell_type": "code",
   "execution_count": 55,
   "id": "fcc39d60",
   "metadata": {
    "scrolled": false
   },
   "outputs": [
    {
     "name": "stdout",
     "output_type": "stream",
     "text": [
      "The p-value is 0.5643684267997742\n"
     ]
    }
   ],
   "source": [
    "# determine population distribution using Shapiro-Wilk's test\n",
    "from scipy import stats\n",
    "\n",
    "# find the p-value\n",
    "w, p_value = stats.shapiro(df['time_spent_on_the_page']) \n",
    "print('The p-value is', p_value)"
   ]
  },
  {
   "cell_type": "code",
   "execution_count": 56,
   "id": "922a4d1d",
   "metadata": {},
   "outputs": [
    {
     "name": "stdout",
     "output_type": "stream",
     "text": [
      "The p-value is greater than the level of significance; therefore, we fail to reject the null hypothesis.\n"
     ]
    }
   ],
   "source": [
    "# use an if - else loop to compare the p-value with alpha. \n",
    "if p_value < 0.05:\n",
    "    print('The p-value is less than the level of significance; therefore, we reject the null hypothesis.')\n",
    "else:\n",
    "    print('The p-value is greater than the level of significance; therefore, we fail to reject the null hypothesis.')"
   ]
  },
  {
   "cell_type": "markdown",
   "id": "06dcf645",
   "metadata": {},
   "source": [
    "Since the p-value of the Shapiro test is large, I fail to reject the null hypothesis that the mean time spent on the page follows a normal distribution. Therefore, there is statistical evidence to suggest the population is normally distributed. "
   ]
  },
  {
   "cell_type": "markdown",
   "id": "b1099355",
   "metadata": {},
   "source": [
    "##### Levene's test\n",
    "Null hypothesis\n",
    ">$H_0:$ The population variances are equal. \n",
    "\n",
    "Alternative hypothesis\n",
    "\n",
    ">$H_a:$ At least one population variance is different from the others. "
   ]
  },
  {
   "cell_type": "code",
   "execution_count": 57,
   "id": "2a1998dd",
   "metadata": {},
   "outputs": [
    {
     "name": "stdout",
     "output_type": "stream",
     "text": [
      "The p-value is 0.06515086840327314\n"
     ]
    }
   ],
   "source": [
    "# determine population variance using Levene's test\n",
    "#Assumption 2: Homogeneity of Variance\n",
    "#import the required function\n",
    "from scipy.stats import levene\n",
    "statistic, p_value = levene( df['time_spent_on_the_page'][df['language_preferred']==\"English\"], \n",
    "                                   df['time_spent_on_the_page'][df['language_preferred']==\"French\"], \n",
    "                                   df['time_spent_on_the_page'][df['language_preferred']==\"Spanish\"])\n",
    "# find the p-value\n",
    "print('The p-value is', p_value)"
   ]
  },
  {
   "cell_type": "code",
   "execution_count": 58,
   "id": "470f1cd7",
   "metadata": {
    "scrolled": true
   },
   "outputs": [
    {
     "name": "stdout",
     "output_type": "stream",
     "text": [
      "The p-value is greater than the level of significance; therefore, we fail to reject the null hypothesis.\n"
     ]
    }
   ],
   "source": [
    "# use an if - else loop to compare the p-value with alpha. \n",
    "if p_value < 0.05:\n",
    "    print('The p-value is less than the level of significance; therefore, we reject the null hypothesis.')\n",
    "else:\n",
    "    print('The p-value is greater than the level of significance; therefore, we fail to reject the null hypothesis.')"
   ]
  },
  {
   "cell_type": "markdown",
   "id": "212b8110",
   "metadata": {},
   "source": [
    "Since the p-value is greater than the level of signifiance, we fail to reject the null hypothesis that the population variances are equal. Therefore, there is statistical evidence to suggest that the variances are homogenous. "
   ]
  },
  {
   "cell_type": "markdown",
   "id": "b2afcfc1",
   "metadata": {},
   "source": [
    "#### Meeting the Assumptions of the ANOVA test\n",
    "Assumptions\n",
    "* The populations are normally distributed. Yes, there is statistical evidence to suggest that the populations are normally distributed as shown by the Shapiro-Wilk's test. \n",
    "* Samples are independent simple random samples. Yes, samples are independent from a randomly selected population. \n",
    "* Population variances are equal. Yes, there is statistical evidence to support that the population variances are equal, as determined by the Levene's test performed above. "
   ]
  },
  {
   "cell_type": "markdown",
   "id": "7b83e97c",
   "metadata": {},
   "source": [
    "### Step 3: Decide the significance level"
   ]
  },
  {
   "cell_type": "markdown",
   "id": "1991f7e4",
   "metadata": {},
   "source": [
    "As outlined in the problem statement, the level of significance will be .05."
   ]
  },
  {
   "cell_type": "markdown",
   "id": "a3dd01e9",
   "metadata": {},
   "source": [
    "### Step 4: Collect and prepare data"
   ]
  },
  {
   "cell_type": "code",
   "execution_count": 59,
   "id": "f49999e4",
   "metadata": {},
   "outputs": [],
   "source": [
    "#import the required function\n",
    "from scipy.stats import f_oneway\n",
    "\n",
    "# perform one-way anova test\n",
    "test_stat, p_value = f_oneway(df.loc[df['language_preferred'] == 'Spanish', 'time_spent_on_the_page'],\n",
    "                              df.loc[df['language_preferred'] == 'English', 'time_spent_on_the_page'],\n",
    "                              df.loc[df['language_preferred'] == 'French', 'time_spent_on_the_page'])\n"
   ]
  },
  {
   "cell_type": "markdown",
   "id": "ab8d3d7a",
   "metadata": {},
   "source": [
    "### Step 5: Calculate the p-value"
   ]
  },
  {
   "cell_type": "code",
   "execution_count": 60,
   "id": "c0217546",
   "metadata": {},
   "outputs": [
    {
     "name": "stdout",
     "output_type": "stream",
     "text": [
      "The p-value is 0.8665610536012648\n"
     ]
    }
   ],
   "source": [
    "# print the p-value\n",
    "print('The p-value is ' + str(p_value))"
   ]
  },
  {
   "cell_type": "markdown",
   "id": "ee6b1bdd",
   "metadata": {},
   "source": [
    "### Step 6: Compare the p-value with $\\alpha$"
   ]
  },
  {
   "cell_type": "code",
   "execution_count": 61,
   "id": "6db2d24f",
   "metadata": {},
   "outputs": [
    {
     "name": "stdout",
     "output_type": "stream",
     "text": [
      "The p-value is greater than the level of significance; therefore, we fail to reject the null hypothesis.\n"
     ]
    }
   ],
   "source": [
    "# if-else loop to compare the p-value with alpha \n",
    "if p_value < 0.05:\n",
    "    print('The p-value is less than the level of significance; therefore, we reject the null hypothesis.')\n",
    "else:\n",
    "    print('The p-value is greater than the level of significance; therefore, we fail to reject the null hypothesis.')"
   ]
  },
  {
   "cell_type": "markdown",
   "id": "d8da14ca",
   "metadata": {},
   "source": [
    "### Step 7:  Draw inference"
   ]
  },
  {
   "cell_type": "markdown",
   "id": "a38ef7bc",
   "metadata": {},
   "source": [
    "As the p-value (87%) is greater than 5%, we fail to reject the null hypothesis. Based on statistical evidence, the mean time spent on the page is the same, regardless of the preferred language of the user."
   ]
  },
  {
   "cell_type": "markdown",
   "id": "3acbc947",
   "metadata": {
    "id": "3acbc947"
   },
   "source": [
    "## Conclusion and Business Recommendations"
   ]
  },
  {
   "cell_type": "markdown",
   "id": "21fb1063",
   "metadata": {
    "id": "21fb1063"
   },
   "source": [
    "**Conclusions** \n",
    "\n",
    "**Objective Questions:**\n",
    "1. Do users spend more time on the new landing page than on the existing landing page?\n",
    "    * There is enough statistical evidence to support the claim that users spend more time on the new landing page than on the existing landing page. Therefore, the new landing page has increased engagement based on time spent on the home page. \n",
    "2. Is the conversion rate (the proportion of users who visit the landing page and get converted) for the new page greater than the conversion rate for the old page?\n",
    "    * The conversion rate for the new page is greater than the conversion rate for the old page based on statistical evidence. \n",
    "3. Does the converted status depend on the preferred language?\n",
    "    * No, the converted status does not depend on the preferred language of the user. \n",
    "4. Is the time spent on the new page the same for the different language users?\n",
    "    * Yes, the evidence suggests that the mean time spent on the page is the same for the different language users. \n",
    "    \n",
    "**Observations:**\n",
    "* Users spend between 5-6 minutes on the landing page, on average. \n",
    "* The minimum time spent on the page is .19 minutes.\n",
    "* The median time spent on the page is 5.42 minutes. \n",
    "* The maximum time spent on the page is 10.71 minutes. \n",
    "* There was no discernible difference between the mean time individuals spent on the landing page based on their preferred language. \n",
    "* The new landing page converted more users into subscribers than the old landing page. \n",
    "    * 60% of users on the new landing page were converted. \n",
    "    * 42% of users on the old landing page were converted. "
   ]
  },
  {
   "cell_type": "markdown",
   "id": "33f10e95",
   "metadata": {},
   "source": [
    "**Business Recommendations**\n",
    "* Based on the statistical findings of this report, the new landing page launced by E-News Express is effective at converting users into subscribers. 33/50 (60%) of users on the new landing page were converted into subscribers. The converted status did not depend on the preferred language of the user, so E-news Express should continue to add languages to their database in order to generate more subscriptions and capital. Additionally, the new landing page generates more interest, as users spent more time on average on the new landing page. \n",
    "* The new landing page should be adopted by E-news Express because it is proven to be effective at converting subscribers and it generates more interest than the old landing page. Users are more likely to subscribe when they are on the landing page long enough to become interested in the content. The new landing page is an effective tool to increase subscriptions and drive engagement. "
   ]
  },
  {
   "cell_type": "markdown",
   "id": "U0dAd4i0iCHo",
   "metadata": {
    "id": "U0dAd4i0iCHo"
   },
   "source": [
    "___"
   ]
  }
 ],
 "metadata": {
  "colab": {
   "collapsed_sections": [
    "a6a3d218",
    "6970dd99",
    "9d75cfa2",
    "68f3b2c9",
    "fad2de2f",
    "27906576",
    "e5fdf0c8",
    "56b3dafd",
    "c7ee4907",
    "3f58c9a7",
    "5fed2eac",
    "f5c5258d",
    "359b12f8",
    "d9affc84",
    "353e9d24",
    "d49bfa2d",
    "8d585a90",
    "3acbc947"
   ],
   "name": "ENews_Express_Learner_Notebook_Full_Code v1.1.ipynb",
   "provenance": []
  },
  "kernelspec": {
   "display_name": "Python 3 (ipykernel)",
   "language": "python",
   "name": "python3"
  },
  "language_info": {
   "codemirror_mode": {
    "name": "ipython",
    "version": 3
   },
   "file_extension": ".py",
   "mimetype": "text/x-python",
   "name": "python",
   "nbconvert_exporter": "python",
   "pygments_lexer": "ipython3",
   "version": "3.9.12"
  }
 },
 "nbformat": 4,
 "nbformat_minor": 5
}
